{
 "cells": [
  {
   "cell_type": "markdown",
   "metadata": {},
   "source": [
    "## Import"
   ]
  },
  {
   "cell_type": "code",
   "execution_count": null,
   "metadata": {
    "collapsed": false
   },
   "outputs": [],
   "source": [
    "%matplotlib inline\n",
    "import numpy as np\n",
    "import os\n",
    "\n",
    "import menpo.io as mio\n",
    "from menpo.feature import fast_dsift, double_igo, no_op, dsift\n",
    "from menpo.visualize import print_dynamic, print_progress, visualize_images, visualize_pointclouds\n",
    "\n",
    "from menpofit.fittingresult import compute_error\n",
    "from menpofit.visualize import visualize_shape_model, visualize_fitting_result, plot_ced\n",
    "\n",
    "from alabortijcv2015.aam import PartsAAMBuilder, PartsAAMFitter\n",
    "from alabortijcv2015.aam.algorithm import SIC, BSC\n",
    "from alabortijcv2015.utils import pickle_load, pickle_dump\n",
    "from alabortijcv2015.result import SerializableResult"
   ]
  },
  {
   "cell_type": "markdown",
   "metadata": {},
   "source": [
    "## Visualize data"
   ]
  },
  {
   "cell_type": "code",
   "execution_count": null,
   "metadata": {
    "collapsed": false
   },
   "outputs": [],
   "source": [
    "max_images = 150\n",
    "\n",
    "all_paths = []\n",
    "for path in mio.image_paths('/vol/atlas/databases/body/FashionPose/Trainset/rescaled_img_train/'):\n",
    "    all_paths.append(path)\n",
    "    \n",
    "path_initial = '/vol/atlas/databases/body/FashionPose/Trainset/InitialShapes/'\n",
    "images = []\n",
    "for path in print_progress(all_paths[:max_images]):\n",
    "    im = mio.import_image(path)\n",
    "    if im.n_channels == 3:\n",
    "        im = im.as_greyscale(mode='luminosity')\n",
    "    \n",
    "    sh = mio.import_landmark_file(path_initial + os.path.basename(str(path))[:-3] + 'ljson')\n",
    "    im.landmarks['CNN'] = sh    \n",
    "    images.append(im)"
   ]
  },
  {
   "cell_type": "code",
   "execution_count": null,
   "metadata": {
    "collapsed": false
   },
   "outputs": [],
   "source": [
    "visualize_images(images)"
   ]
  },
  {
   "cell_type": "markdown",
   "metadata": {},
   "source": [
    "## Plot Initial Shapes Curve"
   ]
  },
  {
   "cell_type": "code",
   "execution_count": null,
   "metadata": {
    "collapsed": false
   },
   "outputs": [],
   "source": [
    "cnn_shapes = []\n",
    "gt_shapes = []\n",
    "for sh in mio.import_landmark_files('/vol/atlas/databases/body/FashionPose/Trainset/InitialShapes/', verbose=True):\n",
    "    cnn_shapes.append(sh)\n",
    "    \n",
    "    gt_path = os.path.basename(str(sh.path))\n",
    "    \n",
    "    gt_sh = mio.import_landmark_file('/vol/atlas/databases/body/FashionPose/Trainset/rescaled_img_train/' + gt_path)\n",
    "    gt_shapes.append(gt_sh)"
   ]
  },
  {
   "cell_type": "code",
   "execution_count": null,
   "metadata": {
    "collapsed": false
   },
   "outputs": [],
   "source": [
    "error_type = 'me_norm' #'me_norm', or 'me' or 'rmse'\n",
    "errors = [compute_error(sh.lms, gt.lms, error_type=error_type) for sh, gt in zip(cnn_shapes, gt_shapes)]"
   ]
  },
  {
   "cell_type": "code",
   "execution_count": null,
   "metadata": {
    "collapsed": false
   },
   "outputs": [],
   "source": [
    "plot_ced([errors])"
   ]
  },
  {
   "cell_type": "code",
   "execution_count": null,
   "metadata": {
    "collapsed": false
   },
   "outputs": [],
   "source": [
    "print(\"CNN: mean: {:1.4f}, median: {:1.4f}, std: {:1.4f}\".format(np.mean(errors), \n",
    "                                                                 np.median(errors),\n",
    "                                                                 np.std(errors)))"
   ]
  },
  {
   "cell_type": "markdown",
   "metadata": {},
   "source": [
    "## Load Data"
   ]
  },
  {
   "cell_type": "code",
   "execution_count": null,
   "metadata": {
    "collapsed": true
   },
   "outputs": [],
   "source": [
    "n_training_images = 500\n",
    "n_testing_images = 20"
   ]
  },
  {
   "cell_type": "code",
   "execution_count": null,
   "metadata": {
    "collapsed": false
   },
   "outputs": [],
   "source": [
    "images = []\n",
    "for im in mio.import_images('/vol/atlas/databases/body/FashionPose/Trainset/rescaled_img_train/', verbose=True, \n",
    "                            max_images=n_training_images + n_testing_images):\n",
    "    if im.n_channels == 3:\n",
    "            im = im.as_greyscale(mode='luminosity')\n",
    "    images.append(im)"
   ]
  },
  {
   "cell_type": "code",
   "execution_count": null,
   "metadata": {
    "collapsed": false
   },
   "outputs": [],
   "source": [
    "visualize_images(images)"
   ]
  },
  {
   "cell_type": "code",
   "execution_count": null,
   "metadata": {
    "collapsed": false
   },
   "outputs": [],
   "source": [
    "pointclouds = [im.landmarks['LJSON'].lms for im in images]\n",
    "visualize_pointclouds(pointclouds)"
   ]
  },
  {
   "cell_type": "markdown",
   "metadata": {},
   "source": [
    "## Train Model"
   ]
  },
  {
   "cell_type": "code",
   "execution_count": null,
   "metadata": {
    "collapsed": true
   },
   "outputs": [],
   "source": [
    "patch_shape = (24, 24)\n",
    "features = fast_dsift\n",
    "diagonal = 150\n",
    "normalize_parts = no_op\n",
    "scales = (1, .5)\n",
    "max_shape_components = 50\n",
    "max_appearance_components = 200\n",
    "\n",
    "save_path = '/vol/atlas/homes/mej114/'"
   ]
  },
  {
   "cell_type": "code",
   "execution_count": null,
   "metadata": {
    "collapsed": false
   },
   "outputs": [],
   "source": [
    "aam = PartsAAMBuilder(parts_shape=patch_shape,\n",
    "                      features=features,\n",
    "                      diagonal=diagonal,\n",
    "                      normalize_parts=normalize_parts,\n",
    "                      scales=scales,\n",
    "                      max_shape_components=max_shape_components,\n",
    "                      max_appearance_components=max_appearance_components).build(images[:n_training_images], \n",
    "                                                                                 verbose=True)"
   ]
  },
  {
   "cell_type": "code",
   "execution_count": null,
   "metadata": {
    "collapsed": true
   },
   "outputs": [],
   "source": [
    "aam_type = aam.__class__.__name__\n",
    "pickle_dump(aam, save_path + aam_type + '_' + features.__name__ + '.pickle')"
   ]
  },
  {
   "cell_type": "code",
   "execution_count": null,
   "metadata": {
    "collapsed": false
   },
   "outputs": [],
   "source": [
    "visualize_shape_model(aam.shape_models)"
   ]
  },
  {
   "cell_type": "code",
   "execution_count": null,
   "metadata": {
    "collapsed": false
   },
   "outputs": [],
   "source": [
    "aam.appearance_models[1].plot_eigenvalues_ratio()"
   ]
  },
  {
   "cell_type": "code",
   "execution_count": null,
   "metadata": {
    "collapsed": false
   },
   "outputs": [],
   "source": [
    "aam.appearance_models[1].plot_eigenvalues_cumulative_ratio()"
   ]
  },
  {
   "cell_type": "markdown",
   "metadata": {},
   "source": [
    "## Fit Model"
   ]
  },
  {
   "cell_type": "code",
   "execution_count": null,
   "metadata": {
    "collapsed": true
   },
   "outputs": [],
   "source": [
    "aam = pickle_load(save_path + 'PartsAAM_fast_dsift.pickle')"
   ]
  },
  {
   "cell_type": "code",
   "execution_count": null,
   "metadata": {
    "collapsed": true
   },
   "outputs": [],
   "source": [
    "algorithm_cls = SIC  #BSC\n",
    "n_shape = [10, 20]; \n",
    "n_appearance = [30, 50]\n",
    "sampling_step = 1\n",
    "\n",
    "max_iters = 50\n",
    "prior = False"
   ]
  },
  {
   "cell_type": "code",
   "execution_count": null,
   "metadata": {
    "collapsed": true
   },
   "outputs": [],
   "source": [
    "sampling_mask = np.require(np.zeros(patch_shape), dtype=np.bool)\n",
    "sampling_mask[::sampling_step, ::sampling_step] = True\n",
    "\n",
    "fitter = PartsAAMFitter(aam, algorithm_cls=algorithm_cls, n_shape=n_shape,\n",
    "                        n_appearance=n_appearance, sampling_mask=sampling_mask)"
   ]
  },
  {
   "cell_type": "code",
   "execution_count": null,
   "metadata": {
    "collapsed": false
   },
   "outputs": [],
   "source": [
    "path_initial = '/vol/atlas/databases/body/FashionPose/Trainset/InitialShapes/'\n",
    "\n",
    "fitter_results = []\n",
    "for j, im in enumerate(images[n_training_images+1:n_training_images+n_testing_images]):\n",
    "    # Get groundtruth shape\n",
    "    groundtruth_shape = im.landmarks['LJSON'].lms\n",
    "    # Get initial shape\n",
    "    initial_shape = mio.import_landmark_file(path_initial + os.path.basename(str(im.path))[:-3] + 'ljson')\n",
    "    # Fit\n",
    "    fr = fitter.fit(im, initial_shape.lms, gt_shape=groundtruth_shape, max_iters=max_iters, prior=prior)\n",
    "    # Append fitting result\n",
    "    fr.downscale = 0.5\n",
    "    fitter_results.append(fr)\n",
    "    # Print progress\n",
    "    print_dynamic(\"Image: {}/{}, Error: {:1.4f} -> {:1.4f}\".format(j, n_testing_images-1, \n",
    "                                                                   fr.initial_error(), fr.final_error()))"
   ]
  },
  {
   "cell_type": "code",
   "execution_count": null,
   "metadata": {
    "collapsed": true
   },
   "outputs": [],
   "source": [
    "results = [SerializableResult('none', fr.shapes(), fr.n_iters, 'FastSIC', fr.gt_shape) \n",
    "           for fr in fitter_results]\n",
    "pickle_dump(results, save_path + aam_type + '_' + features.__name__ + '_noise' + str(noise_std) + '.pickle')"
   ]
  },
  {
   "cell_type": "markdown",
   "metadata": {},
   "source": [
    "## Visualize results"
   ]
  },
  {
   "cell_type": "code",
   "execution_count": null,
   "metadata": {
    "collapsed": false
   },
   "outputs": [],
   "source": [
    "visualize_images(images)"
   ]
  },
  {
   "cell_type": "code",
   "execution_count": null,
   "metadata": {
    "collapsed": false
   },
   "outputs": [],
   "source": [
    "visualize_fitting_result(fitter_results)"
   ]
  },
  {
   "cell_type": "code",
   "execution_count": null,
   "metadata": {
    "collapsed": false
   },
   "outputs": [],
   "source": [
    "error_type = 'me_norm' #'me_norm', or 'me' or 'rmse'\n",
    "\n",
    "initial_errors = [fr.initial_error(error_type=error_type) for fr in fitter_results]\n",
    "final_errors = [fr.final_error(error_type=error_type) for fr in fitter_results]\n",
    "\n",
    "plot_ced([initial_errors, final_errors], legend_entries=['CNN', 'AAM'])"
   ]
  },
  {
   "cell_type": "code",
   "execution_count": null,
   "metadata": {
    "collapsed": false
   },
   "outputs": [],
   "source": [
    "print(\"               |  mean  | median |  std  \")\n",
    "print(\"Initialization | {:1.4f} | {:1.4f} | {:1.4f}\".format(np.mean(initial_errors), \n",
    "                                                            np.median(initial_errors),\n",
    "                                                            np.std(initial_errors)))\n",
    "print(\"Fitting result | {:1.4f} | {:1.4f} | {:1.4f}\".format(np.mean(final_errors), \n",
    "                                                            np.median(final_errors),\n",
    "                                                            np.std(final_errors)))"
   ]
  },
  {
   "cell_type": "code",
   "execution_count": null,
   "metadata": {
    "collapsed": true
   },
   "outputs": [],
   "source": []
  }
 ],
 "metadata": {
  "kernelspec": {
   "display_name": "Python 2",
   "language": "python",
   "name": "python2"
  },
  "language_info": {
   "codemirror_mode": {
    "name": "ipython",
    "version": 2
   },
   "file_extension": ".py",
   "mimetype": "text/x-python",
   "name": "python",
   "nbconvert_exporter": "python",
   "pygments_lexer": "ipython2",
   "version": "2.7.10"
  }
 },
 "nbformat": 4,
 "nbformat_minor": 0
}
