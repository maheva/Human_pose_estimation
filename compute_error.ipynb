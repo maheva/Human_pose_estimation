{
 "cells": [
  {
   "cell_type": "code",
   "execution_count": 3,
   "metadata": {
    "collapsed": false
   },
   "outputs": [],
   "source": [
    "# The purpose of this is for the visualized figures to be inline the browser\n",
    "%matplotlib inline\n",
    "import numpy as np\n",
    "import os\n",
    "\n",
    "# Import stuff from menpo\n",
    "import menpo.io as mio\n",
    "from menpo.feature import no_op, dsift, fast_dsift, double_igo\n",
    "from menpo.visualize import visualize_images, visualize_pointclouds, print_dynamic, print_progress\n",
    "from menpo.landmark import labeller, human36M_pose_32, human36M_pose_17\n",
    "\n",
    "# Import stuff from menpofit\n",
    "from menpofit.visualize import visualize_shape_model, visualize_fitting_result, plot_ced\n",
    "\n",
    "# Import stuff from alabortijcv2015 (this will be soon integrated in menpofit)\n",
    "from alabortijcv2015.aam import PartsAAMBuilder, PartsAAMFitter\n",
    "from alabortijcv2015.aam.algorithm import SIC, BSC\n",
    "from alabortijcv2015.utils import pickle_load, pickle_dump\n",
    "from alabortijcv2015.result import SerializableResult\n",
    "\n",
    "# Other stuff\n",
    "import numpy as np\n",
    "import re\n",
    "from itertools import islice\n",
    "save_path='/vol/atlas/homes/mej114/results'"
   ]
  },
  {
   "cell_type": "code",
   "execution_count": 4,
   "metadata": {
    "collapsed": false
   },
   "outputs": [
    {
     "name": "stdout",
     "output_type": "stream",
     "text": [
      "[====================] 100% (200/200) - 00:00:00 remaining\n"
     ]
    }
   ],
   "source": [
    "n_training_images = 100\n",
    "n_testing_images = 100\n",
    "max_images = n_training_images +n_testing_images\n",
    "all_paths = []\n",
    "for path in mio.image_paths('/vol/atlas/databases/body/FashionPose/Trainset/rescaled_img_train/'):\n",
    "    all_paths.append(path)\n",
    "    \n",
    "path_initial = '/vol/atlas/databases/body/FashionPose/Trainset/InitialShapes/'\n",
    "images = []\n",
    "for path in print_progress(all_paths[:max_images]):\n",
    "    im = mio.import_image(path)\n",
    "    if im.n_channels == 3:\n",
    "        im = im.as_greyscale(mode='luminosity')\n",
    "    \n",
    "    sh = mio.import_landmark_file(path_initial + os.path.basename(str(path))[:-3] + 'ljson')\n",
    "    im.landmarks['CNN'] = sh    \n",
    "    images.append(im)"
   ]
  },
  {
   "cell_type": "code",
   "execution_count": 5,
   "metadata": {
    "collapsed": false
   },
   "outputs": [
    {
     "data": {
      "text/plain": [
       "<menpo.visualize.viewmatplotlib.MatplotlibPointGraphViewer2d at 0x7f84b176ad50>"
      ]
     },
     "execution_count": 5,
     "metadata": {},
     "output_type": "execute_result"
    },
    {
     "data": {
      "image/png": "[encoded data removed]",
      "text/plain": [
       "<matplotlib.figure.Figure at 0x7f84d8c6fcd0>"
      ]
     },
     "metadata": {},
     "output_type": "display_data"
    }
   ],
   "source": [
    "a=images[0].landmarks['LJSON']['torso']\n",
    "b=a.bounding_box()\n",
    "b.view()"
   ]
  },
  {
   "cell_type": "code",
   "execution_count": 6,
   "metadata": {
    "collapsed": false
   },
   "outputs": [],
   "source": [
    "c=b.points"
   ]
  },
  {
   "cell_type": "code",
   "execution_count": 7,
   "metadata": {
    "collapsed": false
   },
   "outputs": [],
   "source": [
    "import math\n",
    "x=c[1][0]-c[0][0]\n",
    "y=c[1][1]-c[3][1]\n",
    "d=math.sqrt(x*x+y*y)"
   ]
  },
  {
   "cell_type": "code",
   "execution_count": 8,
   "metadata": {
    "collapsed": false
   },
   "outputs": [],
   "source": [
    "a1=images[1].landmarks['LJSON']['torso']"
   ]
  },
  {
   "cell_type": "code",
   "execution_count": 85,
   "metadata": {
    "collapsed": false
   },
   "outputs": [],
   "source": [
    " def compute_error_custom(pointcloud1,pointcloud2):\n",
    "        import math\n",
    "        from menpo.shape import PointUndirectedGraph\n",
    "              \n",
    "        adjency_matrix=np.array([[0, 1, 1, 0, 0],\n",
    "                         [1, 0, 1, 1, 0],\n",
    "                         [1, 1, 0, 0, 1],\n",
    "                         [0, 1, 0, 0, 1],\n",
    "                         [0, 0, 1, 1, 0]])\n",
    "        a=pointcloud1.lms.points[:5]\n",
    "        a=PointUndirectedGraph(np.array(a),adjency_matrix)\n",
    "        b=a.bounding_box().points\n",
    " \n",
    "        x=b[1][0]-b[0][0]\n",
    "        y=b[1][1]-b[3][1]\n",
    "        norm=math.sqrt(x*x+y*y)\n",
    "        d=pointcloud1.lms.distance_to(pointcloud2.lms)\n",
    "        distance=[d[i][i]/norm for i in range(len(d))]\n",
    "       \n",
    "        return np.sqrt(np.sum([pow(distance[i],2) for i in range(len(distance))], axis=-1))"
   ]
  },
  {
   "cell_type": "code",
   "execution_count": 86,
   "metadata": {
    "collapsed": false
   },
   "outputs": [
    {
     "data": {
      "image/png": "[encoded data removed]",
      "text/plain": [
       "<matplotlib.figure.Figure at 0x7f84ada22990>"
      ]
     },
     "metadata": {},
     "output_type": "display_data"
    }
   ],
   "source": [
    "error=[]\n",
    "for im in images:\n",
    "    m=im.landmarks['LJSON']\n",
    "    n=im.landmarks['CNN']\n",
    "    distance=compute_error_custom(m,n)\n",
    "    error.append(distance)\n",
    "plot_ced(error)"
   ]
  },
  {
   "cell_type": "code",
   "execution_count": 87,
   "metadata": {
    "collapsed": false
   },
   "outputs": [
    {
     "name": "stdout",
     "output_type": "stream",
     "text": [
      "               |  mean  | median |  std  \n",
      "Fitting result | 0.2415 | 0.2299 | 0.0791\n"
     ]
    }
   ],
   "source": [
    "print(\"               |  mean  | median |  std  \")\n",
    "\n",
    "print(\"Fitting result | {:1.4f} | {:1.4f} | {:1.4f}\".format(np.mean(error), \n",
    "                                                            np.median(error),\n",
    "                                                            np.std(error)))"
   ]
  },
  {
   "cell_type": "code",
   "execution_count": 24,
   "metadata": {
    "collapsed": false
   },
   "outputs": [],
   "source": [
    "fitter_results_17=pickle_load(save_path+'dsfit_noiseNone_FashionPose_17.pickle')"
   ]
  },
  {
   "cell_type": "code",
   "execution_count": 25,
   "metadata": {
    "collapsed": true
   },
   "outputs": [],
   "source": [
    "fitter_results_19=pickle_load(save_path+'dsfit_noiseNone_FashionPose_19.piclke')"
   ]
  },
  {
   "cell_type": "code",
   "execution_count": 79,
   "metadata": {
    "collapsed": false
   },
   "outputs": [
    {
     "name": "stdout",
     "output_type": "stream",
     "text": [
      "[0.043787953810071639, 0.042709977321286612, 0.033567280109994782, 0.026686019342405849, 0.070726851168212729, 0.18290474148030325, 0.057342122057866853, 0.041605161389497415, 0.076389085042891117, 0.13980228061875002, 0.10822890710152487, 0.059795876058893235, 0.024812477021135829, 0.070902365435383238, 0.11804676633419248, 0.048095257821448779, 0.1737113917753923]\n",
      "103.368273663\n"
     ]
    }
   ],
   "source": [
    "m=fitter_results_17[0].fitted_image.landmarks['ground']\n",
    "n=fitter_results_17[0].fitted_image.landmarks['final']\n",
    "distance=compute_error_custom(m,n)"
   ]
  },
  {
   "cell_type": "code",
   "execution_count": 74,
   "metadata": {
    "collapsed": false
   },
   "outputs": [
    {
     "data": {
      "image/png": "[encoded data removed]",
      "text/plain": [
       "<matplotlib.figure.Figure at 0x7f84adc12050>"
      ]
     },
     "metadata": {},
     "output_type": "display_data"
    }
   ],
   "source": [
    "error=[]\n",
    "for im in fitter_results_17:\n",
    "    m=im.fitted_image.landmarks['ground']\n",
    "    n=im.fitted_image.landmarks['final']\n",
    "    distance=compute_error_custom(m,n)\n",
    "    error.append(distance)\n",
    "plot_ced(error)"
   ]
  },
  {
   "cell_type": "code",
   "execution_count": 75,
   "metadata": {
    "collapsed": false
   },
   "outputs": [
    {
     "name": "stdout",
     "output_type": "stream",
     "text": [
      "               |  mean  | median |  std  \n",
      "Fitting result | 0.4198 | 0.3989 | 0.1342\n"
     ]
    }
   ],
   "source": [
    "print(\"               |  mean  | median |  std  \")\n",
    "\n",
    "print(\"Fitting result | {:1.4f} | {:1.4f} | {:1.4f}\".format(np.mean(error), \n",
    "                                                            np.median(error),\n",
    "                                                            np.std(error)))"
   ]
  },
  {
   "cell_type": "code",
   "execution_count": 108,
   "metadata": {
    "collapsed": true
   },
   "outputs": [],
   "source": [
    " def compute_error_custom(pointcloud1,pointcloud2):\n",
    "        import math\n",
    "        from menpo.shape import PointUndirectedGraph\n",
    "              \n",
    "        adjency_matrix=np.array([[0, 1, 1, 0, 0],\n",
    "                         [1, 0, 1, 1, 0],\n",
    "                         [1, 1, 0, 0, 1],\n",
    "                         [0, 1, 0, 0, 1],\n",
    "                         [0, 0, 1, 1, 0]])\n",
    "        a=pointcloud1.lms.points[:5]\n",
    "        a=PointUndirectedGraph(np.array(a),adjency_matrix)\n",
    "        b=a.bounding_box().points\n",
    " \n",
    "        x=b[1][0]-b[0][0]\n",
    "        y=b[1][1]-b[3][1]\n",
    "        norm=math.sqrt(x*x+y*y)\n",
    "       \n",
    "        return np.mean(np.sqrt(np.sum((pointcloud1.lms.points-pointcloud2.lms.points)**2,axis=-1)))/norm"
   ]
  },
  {
   "cell_type": "code",
   "execution_count": 109,
   "metadata": {
    "collapsed": false
   },
   "outputs": [
    {
     "data": {
      "text/plain": [
       "0.41681399657977614"
      ]
     },
     "execution_count": 109,
     "metadata": {},
     "output_type": "execute_result"
    }
   ],
   "source": [
    "np.mean(np.sqrt(np.sum((m.lms.points-n.lms.points)**2/103,axis=-1)))"
   ]
  },
  {
   "cell_type": "code",
   "execution_count": 110,
   "metadata": {
    "collapsed": false
   },
   "outputs": [
    {
     "data": {
      "image/png": "[encoded data removed]",
      "text/plain": [
       "<matplotlib.figure.Figure at 0x7f84ad60f090>"
      ]
     },
     "metadata": {},
     "output_type": "display_data"
    }
   ],
   "source": [
    "error=[]\n",
    "for im in images:\n",
    "    m=im.landmarks['LJSON']\n",
    "    n=im.landmarks['CNN']\n",
    "    distance=compute_error_custom(m,n)\n",
    "    error.append(distance)\n",
    "plot_ced(error)"
   ]
  },
  {
   "cell_type": "code",
   "execution_count": 111,
   "metadata": {
    "collapsed": false
   },
   "outputs": [
    {
     "name": "stdout",
     "output_type": "stream",
     "text": [
      "               |  mean  | median |  std  \n",
      "Fitting result | 0.0574 | 0.0545 | 0.0179\n"
     ]
    }
   ],
   "source": [
    "print(\"               |  mean  | median |  std  \")\n",
    "\n",
    "print(\"Fitting result | {:1.4f} | {:1.4f} | {:1.4f}\".format(np.mean(error), \n",
    "                                                            np.median(error),\n",
    "                                                            np.std(error)))"
   ]
  },
  {
   "cell_type": "code",
   "execution_count": null,
   "metadata": {
    "collapsed": true
   },
   "outputs": [],
   "source": []
  }
 ],
 "metadata": {
  "kernelspec": {
   "display_name": "Python 2",
   "language": "python",
   "name": "python2"
  },
  "language_info": {
   "codemirror_mode": {
    "name": "ipython",
    "version": 2
   },
   "file_extension": ".py",
   "mimetype": "text/x-python",
   "name": "python",
   "nbconvert_exporter": "python",
   "pygments_lexer": "ipython2",
   "version": "2.7.10"
  }
 },
 "nbformat": 4,
 "nbformat_minor": 0
}
